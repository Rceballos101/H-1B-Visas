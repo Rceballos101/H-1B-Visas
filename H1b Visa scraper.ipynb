{
 "cells": [
  {
   "cell_type": "markdown",
   "metadata": {},
   "source": [
    "# Code for scraping data off of the H1B Visa website"
   ]
  },
  {
   "cell_type": "markdown",
   "metadata": {},
   "source": [
    "https://github.com/yiuhyuk/ds_salary_h1b/blob/master/h1b_salary.ipynb"
   ]
  },
  {
   "cell_type": "markdown",
   "metadata": {},
   "source": [
    "https://towardsdatascience.com/how-much-do-data-scientists-make-cbd7ec2b458"
   ]
  },
  {
   "cell_type": "code",
   "execution_count": 1,
   "metadata": {},
   "outputs": [],
   "source": [
    "link = 'https://h1bdata.info/index.php?em=&job=&city='\n",
    "year = '&year=All+Years'"
   ]
  },
  {
   "cell_type": "markdown",
   "metadata": {},
   "source": [
    "Use other code to download names of cities with H1B visas"
   ]
  },
  {
   "cell_type": "code",
   "execution_count": 2,
   "metadata": {},
   "outputs": [],
   "source": [
    "import pandas\n",
    "cities = pandas.read_csv('cities.csv')"
   ]
  },
  {
   "cell_type": "markdown",
   "metadata": {},
   "source": [
    "Format city names into browser friendly format"
   ]
  },
  {
   "cell_type": "code",
   "execution_count": 3,
   "metadata": {},
   "outputs": [],
   "source": [
    "cities = ['+'.join(str(i).split()) for i in cities.Cities]"
   ]
  },
  {
   "cell_type": "code",
   "execution_count": 4,
   "metadata": {},
   "outputs": [],
   "source": [
    "import requests\n",
    "from bs4 import BeautifulSoup"
   ]
  },
  {
   "cell_type": "markdown",
   "metadata": {},
   "source": [
    "Download all the data from the H1B website"
   ]
  },
  {
   "cell_type": "code",
   "execution_count": 5,
   "metadata": {},
   "outputs": [],
   "source": [
    "jobs = []\n",
    "for i in cities:\n",
    "    page = link+i+year # create web address\n",
    "    response = requests.get(page) #open link # ,timeout=1000\n",
    "    content = BeautifulSoup(response.content,'lxml') # get info\n",
    "    \n",
    "    for row in content.find_all('tr')[1:]:\n",
    "        # find all tables on webpage\n",
    "        # for each row in the table found exclude header\n",
    "        row_data = []\n",
    "        for i in row:\n",
    "            # for each column in a row\n",
    "            row_data.append(i.text)\n",
    "            # append data without html, only readable text\n",
    "        jobs.append(row_data)\n",
    "        #create table of all job info"
   ]
  },
  {
   "cell_type": "code",
   "execution_count": 6,
   "metadata": {},
   "outputs": [
    {
     "data": {
      "text/plain": [
       "True"
      ]
     },
     "execution_count": 6,
     "metadata": {},
     "output_type": "execute_result"
    }
   ],
   "source": [
    "import webbrowser\n",
    "url = 'https://www.youtube.com/watch?v=vVCT4iGzm8Q&list=WL&index=84&t=0s'\n",
    "webbrowser.open(url, new=1, autoraise=True)"
   ]
  },
  {
   "cell_type": "code",
   "execution_count": 7,
   "metadata": {},
   "outputs": [],
   "source": [
    "header = ['company','title','salary','location','date']"
   ]
  },
  {
   "cell_type": "code",
   "execution_count": 8,
   "metadata": {},
   "outputs": [],
   "source": [
    "import pandas"
   ]
  },
  {
   "cell_type": "markdown",
   "metadata": {},
   "source": [
    "Convert lists of jobs info into a dataframe"
   ]
  },
  {
   "cell_type": "code",
   "execution_count": 9,
   "metadata": {},
   "outputs": [
    {
     "data": {
      "text/html": [
       "<div>\n",
       "<style scoped>\n",
       "    .dataframe tbody tr th:only-of-type {\n",
       "        vertical-align: middle;\n",
       "    }\n",
       "\n",
       "    .dataframe tbody tr th {\n",
       "        vertical-align: top;\n",
       "    }\n",
       "\n",
       "    .dataframe thead th {\n",
       "        text-align: right;\n",
       "    }\n",
       "</style>\n",
       "<table border=\"1\" class=\"dataframe\">\n",
       "  <thead>\n",
       "    <tr style=\"text-align: right;\">\n",
       "      <th></th>\n",
       "      <th>company</th>\n",
       "      <th>title</th>\n",
       "      <th>salary</th>\n",
       "      <th>location</th>\n",
       "      <th>date</th>\n",
       "    </tr>\n",
       "  </thead>\n",
       "  <tbody>\n",
       "    <tr>\n",
       "      <th>0</th>\n",
       "      <td>CANACCORD GENUITY INC</td>\n",
       "      <td>(2ND YEAR) ANALYST</td>\n",
       "      <td>95,160</td>\n",
       "      <td>NEW YORK, NY</td>\n",
       "      <td>08/02/2016</td>\n",
       "    </tr>\n",
       "    <tr>\n",
       "      <th>1</th>\n",
       "      <td>COMMONWEALTH BANK OF AUSTRALIA</td>\n",
       "      <td>(BCF) ASSOCIATE DIRECTOR, SAF EXECUTION (NEW Y...</td>\n",
       "      <td>125,000</td>\n",
       "      <td>NEW YORK, NY</td>\n",
       "      <td>01/08/2016</td>\n",
       "    </tr>\n",
       "    <tr>\n",
       "      <th>2</th>\n",
       "      <td>COMMONWEALTH BANK OF AUSTRALIA</td>\n",
       "      <td>(BCF) ASSOCIATE DIRECTOR, SAF EXECUTION (NEW Y...</td>\n",
       "      <td>130,047</td>\n",
       "      <td>NEW YORK, NY</td>\n",
       "      <td>10/13/2017</td>\n",
       "    </tr>\n",
       "    <tr>\n",
       "      <th>3</th>\n",
       "      <td>TWO SIGMA INVESTMENTS LP</td>\n",
       "      <td>(COMPUTER SYSTEMS) RESEARCH ANALYST</td>\n",
       "      <td>150,000</td>\n",
       "      <td>NEW YORK, NY</td>\n",
       "      <td>03/14/2016</td>\n",
       "    </tr>\n",
       "    <tr>\n",
       "      <th>4</th>\n",
       "      <td>TWO SIGMA INVESTMENTS LP</td>\n",
       "      <td>(COMPUTER SYSTEMS) RESEARCHER</td>\n",
       "      <td>160,000</td>\n",
       "      <td>NEW YORK, NY</td>\n",
       "      <td>01/19/2017</td>\n",
       "    </tr>\n",
       "  </tbody>\n",
       "</table>\n",
       "</div>"
      ],
      "text/plain": [
       "                          company  \\\n",
       "0           CANACCORD GENUITY INC   \n",
       "1  COMMONWEALTH BANK OF AUSTRALIA   \n",
       "2  COMMONWEALTH BANK OF AUSTRALIA   \n",
       "3        TWO SIGMA INVESTMENTS LP   \n",
       "4        TWO SIGMA INVESTMENTS LP   \n",
       "\n",
       "                                               title   salary      location  \\\n",
       "0                                 (2ND YEAR) ANALYST   95,160  NEW YORK, NY   \n",
       "1  (BCF) ASSOCIATE DIRECTOR, SAF EXECUTION (NEW Y...  125,000  NEW YORK, NY   \n",
       "2  (BCF) ASSOCIATE DIRECTOR, SAF EXECUTION (NEW Y...  130,047  NEW YORK, NY   \n",
       "3                (COMPUTER SYSTEMS) RESEARCH ANALYST  150,000  NEW YORK, NY   \n",
       "4                      (COMPUTER SYSTEMS) RESEARCHER  160,000  NEW YORK, NY   \n",
       "\n",
       "         date  \n",
       "0  08/02/2016  \n",
       "1  01/08/2016  \n",
       "2  10/13/2017  \n",
       "3  03/14/2016  \n",
       "4  01/19/2017  "
      ]
     },
     "execution_count": 9,
     "metadata": {},
     "output_type": "execute_result"
    }
   ],
   "source": [
    "jobsDF = pandas.DataFrame()\n",
    "column = 0\n",
    "for i in header:\n",
    "    jobsDF[i] = [j[column] for j in jobs]\n",
    "    column += 1\n",
    "jobsDF.head()"
   ]
  },
  {
   "cell_type": "markdown",
   "metadata": {},
   "source": [
    "Format Columns properly by converting strings to numbers, dates or years"
   ]
  },
  {
   "cell_type": "code",
   "execution_count": 10,
   "metadata": {},
   "outputs": [],
   "source": [
    "jobsDF['salary'] = [i.replace(',','') for i in jobsDF.salary]\n",
    "jobsDF['salary'] = jobsDF['salary'].astype(float)\n",
    "jobsDF['date'] = pandas.to_datetime(jobsDF['date'])\n",
    "jobsDF['year'] = [i.year for i in jobsDF['date']]"
   ]
  },
  {
   "cell_type": "code",
   "execution_count": 11,
   "metadata": {},
   "outputs": [
    {
     "data": {
      "text/html": [
       "<div>\n",
       "<style scoped>\n",
       "    .dataframe tbody tr th:only-of-type {\n",
       "        vertical-align: middle;\n",
       "    }\n",
       "\n",
       "    .dataframe tbody tr th {\n",
       "        vertical-align: top;\n",
       "    }\n",
       "\n",
       "    .dataframe thead th {\n",
       "        text-align: right;\n",
       "    }\n",
       "</style>\n",
       "<table border=\"1\" class=\"dataframe\">\n",
       "  <thead>\n",
       "    <tr style=\"text-align: right;\">\n",
       "      <th></th>\n",
       "      <th>company</th>\n",
       "      <th>title</th>\n",
       "      <th>salary</th>\n",
       "      <th>location</th>\n",
       "      <th>date</th>\n",
       "      <th>year</th>\n",
       "    </tr>\n",
       "  </thead>\n",
       "  <tbody>\n",
       "    <tr>\n",
       "      <th>0</th>\n",
       "      <td>CANACCORD GENUITY INC</td>\n",
       "      <td>(2ND YEAR) ANALYST</td>\n",
       "      <td>95160.0</td>\n",
       "      <td>NEW YORK, NY</td>\n",
       "      <td>2016-08-02</td>\n",
       "      <td>2016</td>\n",
       "    </tr>\n",
       "    <tr>\n",
       "      <th>1</th>\n",
       "      <td>COMMONWEALTH BANK OF AUSTRALIA</td>\n",
       "      <td>(BCF) ASSOCIATE DIRECTOR, SAF EXECUTION (NEW Y...</td>\n",
       "      <td>125000.0</td>\n",
       "      <td>NEW YORK, NY</td>\n",
       "      <td>2016-01-08</td>\n",
       "      <td>2016</td>\n",
       "    </tr>\n",
       "    <tr>\n",
       "      <th>2</th>\n",
       "      <td>COMMONWEALTH BANK OF AUSTRALIA</td>\n",
       "      <td>(BCF) ASSOCIATE DIRECTOR, SAF EXECUTION (NEW Y...</td>\n",
       "      <td>130047.0</td>\n",
       "      <td>NEW YORK, NY</td>\n",
       "      <td>2017-10-13</td>\n",
       "      <td>2017</td>\n",
       "    </tr>\n",
       "    <tr>\n",
       "      <th>3</th>\n",
       "      <td>TWO SIGMA INVESTMENTS LP</td>\n",
       "      <td>(COMPUTER SYSTEMS) RESEARCH ANALYST</td>\n",
       "      <td>150000.0</td>\n",
       "      <td>NEW YORK, NY</td>\n",
       "      <td>2016-03-14</td>\n",
       "      <td>2016</td>\n",
       "    </tr>\n",
       "    <tr>\n",
       "      <th>4</th>\n",
       "      <td>TWO SIGMA INVESTMENTS LP</td>\n",
       "      <td>(COMPUTER SYSTEMS) RESEARCHER</td>\n",
       "      <td>160000.0</td>\n",
       "      <td>NEW YORK, NY</td>\n",
       "      <td>2017-01-19</td>\n",
       "      <td>2017</td>\n",
       "    </tr>\n",
       "  </tbody>\n",
       "</table>\n",
       "</div>"
      ],
      "text/plain": [
       "                          company  \\\n",
       "0           CANACCORD GENUITY INC   \n",
       "1  COMMONWEALTH BANK OF AUSTRALIA   \n",
       "2  COMMONWEALTH BANK OF AUSTRALIA   \n",
       "3        TWO SIGMA INVESTMENTS LP   \n",
       "4        TWO SIGMA INVESTMENTS LP   \n",
       "\n",
       "                                               title    salary      location  \\\n",
       "0                                 (2ND YEAR) ANALYST   95160.0  NEW YORK, NY   \n",
       "1  (BCF) ASSOCIATE DIRECTOR, SAF EXECUTION (NEW Y...  125000.0  NEW YORK, NY   \n",
       "2  (BCF) ASSOCIATE DIRECTOR, SAF EXECUTION (NEW Y...  130047.0  NEW YORK, NY   \n",
       "3                (COMPUTER SYSTEMS) RESEARCH ANALYST  150000.0  NEW YORK, NY   \n",
       "4                      (COMPUTER SYSTEMS) RESEARCHER  160000.0  NEW YORK, NY   \n",
       "\n",
       "        date  year  \n",
       "0 2016-08-02  2016  \n",
       "1 2016-01-08  2016  \n",
       "2 2017-10-13  2017  \n",
       "3 2016-03-14  2016  \n",
       "4 2017-01-19  2017  "
      ]
     },
     "execution_count": 11,
     "metadata": {},
     "output_type": "execute_result"
    }
   ],
   "source": [
    "jobsDF.head()"
   ]
  },
  {
   "cell_type": "code",
   "execution_count": 12,
   "metadata": {},
   "outputs": [],
   "source": [
    "# Sort by company and year\n",
    "#jobsDF.sort_values(by=['company','year'], inplace=True, ascending=True)"
   ]
  },
  {
   "cell_type": "code",
   "execution_count": 13,
   "metadata": {},
   "outputs": [
    {
     "data": {
      "text/plain": [
       "2575533"
      ]
     },
     "execution_count": 13,
     "metadata": {},
     "output_type": "execute_result"
    }
   ],
   "source": [
    "len(jobsDF)"
   ]
  },
  {
   "cell_type": "code",
   "execution_count": null,
   "metadata": {},
   "outputs": [],
   "source": [
    "import seaborn as sns\n",
    "import matplotlib.pyplot as plt\n",
    "\n",
    "fig, ax = plt.subplots(figsize=(10,6))\n",
    "ax = sns.barplot(x=jobsDF['year'].value_counts().sort_index().index, \n",
    "                 y=jobsDF['year'].value_counts().sort_index().values)\n",
    "ax.set_xlabel(\"Year\",fontsize=16)\n",
    "ax.set_ylabel(\"Number of H1B Visas\",fontsize=16)\n",
    "plt.tight_layout()\n",
    "plt.savefig(fname='num_jobs', dpi=150)"
   ]
  },
  {
   "cell_type": "code",
   "execution_count": null,
   "metadata": {},
   "outputs": [],
   "source": [
    "jobsDF.salary.median()"
   ]
  },
  {
   "cell_type": "code",
   "execution_count": null,
   "metadata": {},
   "outputs": [],
   "source": [
    "jobsDF.columns"
   ]
  },
  {
   "cell_type": "code",
   "execution_count": 14,
   "metadata": {},
   "outputs": [
    {
     "data": {
      "text/plain": [
       "99934"
      ]
     },
     "execution_count": 14,
     "metadata": {},
     "output_type": "execute_result"
    }
   ],
   "source": [
    "len(jobsDF[jobsDF.location == 'NEW YORK, NY'])"
   ]
  },
  {
   "cell_type": "code",
   "execution_count": 15,
   "metadata": {},
   "outputs": [],
   "source": [
    "jobsDF.to_csv('H1B_Visas.csv', sep=\",\", index=False)"
   ]
  },
  {
   "cell_type": "code",
   "execution_count": null,
   "metadata": {},
   "outputs": [],
   "source": []
  }
 ],
 "metadata": {
  "kernelspec": {
   "display_name": "Python 3",
   "language": "python",
   "name": "python3"
  },
  "language_info": {
   "codemirror_mode": {
    "name": "ipython",
    "version": 3
   },
   "file_extension": ".py",
   "mimetype": "text/x-python",
   "name": "python",
   "nbconvert_exporter": "python",
   "pygments_lexer": "ipython3",
   "version": "3.7.3"
  }
 },
 "nbformat": 4,
 "nbformat_minor": 2
}
